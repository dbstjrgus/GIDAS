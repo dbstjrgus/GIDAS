{
 "cells": [
  {
   "cell_type": "code",
   "id": "initial_id",
   "metadata": {
    "collapsed": true,
    "ExecuteTime": {
     "end_time": "2025-04-19T05:24:56.367296Z",
     "start_time": "2025-04-19T05:24:56.355707Z"
    }
   },
   "source": [
    "import numpy as np\n",
    "import pandas as pd\n",
    "\n",
    "gene_list = []  # the unique list of genes that match up with MS and AD\n",
    "\n",
    "cell_paths = pd.read_csv(\"/Users/25yoon/PycharmProjects/rstuff/GIDAS2025.csv\")\n",
    "cell_paths[\"PValue\"] = pd.to_numeric(cell_paths[\"PValue\"])\n",
    "cell_paths[\"MatchingMS\"] = cell_paths[\"MatchingMS\"].astype(bool)\n",
    "\n",
    "for cond, gene in zip(cell_paths[\"MatchingMS\"], cell_paths[\"Genes\"]):\n",
    "    if type(gene) == float:\n",
    "        break\n",
    "    if cond:\n",
    "        gene = gene.split(\",\")\n",
    "        for g in gene:\n",
    "            gene_list.append(g)\n",
    "\n",
    "gene_list = list(set(gene_list))\n",
    "gene_list = [gene.replace(' ','') for gene in gene_list]\n",
    "print(gene_list)\n"
   ],
   "outputs": [
    {
     "name": "stdout",
     "output_type": "stream",
     "text": [
      "['MYO1E', 'IL1B', 'NAGA', 'EHD3', 'SIGLEC16', 'DLGAP5', 'GTSE1', 'GNG7', 'PLEKHA1', 'S1PR2', 'QPCT', 'RB1', 'SPAG9', 'PSMC4', 'SPATA25', 'UBE2C', 'ASTN2', 'CAPN3', 'ACTA2', 'DHRS11', 'NCF1', 'SLC26A11', 'FABP4', 'COL6A1', 'SLC3A2', 'HPGD', 'UGP2', 'S100A10', 'SKA2', 'SEMA4D', 'JAK1', 'KALRN', 'LAIR1', 'NFATC2', 'MCM4', 'ABCA1', 'CCL3L3', 'DUT', 'CDCA5', 'RRAS2', 'LGMN', 'PECAM1', 'ASPHD1', 'FADS1', 'CLSTN3', 'TAGAP', 'CR1L', 'C1QA', 'ST6GALNAC4', 'CLEC4A', 'AFAP1L1', 'ARFGAP1', 'PTPRE', 'ZNFX1', 'LY6E', 'MCM8', 'PPIC', 'C1S', 'BTN3A2', 'FUT4', 'SORL1', 'CD68', 'TMEM237', 'ALDH1A2', 'SAV1', 'LILRA5', 'TFDP1', 'TSPAN17', 'CD36', 'EDNRB', 'CACNG7', 'FGR', 'POU2F2', 'DHRS7', 'SCD', 'ST14', 'NCKAP1', 'DCAF5', 'LPXN', 'S1PR1', 'RBMX', 'MS4A7', 'LTBP2', 'APOE', 'GUCY1A2', 'DOCK3', 'SEMA4D', 'SLC18B1', 'PHLDA3', 'IFITM1', 'TGM5', 'IL6', 'GCNT1', 'NCF1B', 'KIF21A', 'HELLS', 'CTTN', 'PAICS', 'LAT2', 'ITGB3', 'DPEP2', 'IRAK3', 'CARS2', 'CD14', 'LIPA', 'MXRA7', 'SDC3', 'CD37', 'NEDD9', 'THBS3', 'SOCS6', 'FBXO17', 'ITGB5', 'GPC4', 'CD101', 'MSI2', 'MPP1', 'TTYH2', 'RPS27A', 'NUDT1', 'NR3C2', 'HMOX1', 'SPARC', 'TNFAIP3', 'KLHDC8B', 'CCL3', 'S100A6', 'BCL3', 'SELPLG', 'CCL4L2', 'OLR1', 'FABP5', 'ABHD12', 'RILPL1', 'SLAMF9', 'CPEB2', 'RPS15', 'KCNIP3', 'C3', 'YWHAG', 'EPHA2', 'GPNMB', 'DHCR7', 'ACP5', 'TRIM72', 'CASP8AP2', 'MGST1', 'BTN3A3', 'AP2B1', 'ETS2', 'SERPINA1', 'C3', 'ARHGEF17', 'ANP32E', 'S100A16', 'IFIT2', 'SLC7A5', 'MDK', 'IL3RA', 'COL12A1', 'GLUL', 'RDH10', 'CXCR4', 'MYLIP', 'FADS2', 'EMX1', 'CTNND1', 'PRC1', 'RPSA', 'ARMC9', 'VPS39', 'MMD', 'ARNT', 'ITGB3', 'DCLK2', 'APOL6', 'SLC6A12', 'SAMD9L', 'MGLL', 'NUP107', 'STAB1', 'ACSS2', 'CKAP5', 'CCDC170', 'RBBP8', 'SRSF3', 'GNG2', 'IFITM1', 'RPL5', 'NET1', 'EGFL7', 'WAS', 'ESCO2', 'KIF18B', 'ADGRD1', 'AFAP1L1', 'CCL4L2', 'RPS12', 'LDLR', 'P2RY6', 'GOLGA7B', 'GNA15', 'UBA7', 'MME', 'HSD17B4', 'PLA2G7', 'KPNA2', 'RAB1A', 'SPAG9', 'RBM14', 'MIR223', 'EGFL7', 'IER3', 'MKI67', 'ACTA2', 'DLL4', 'CDK5', 'PHLDA1', 'SHB', 'SASH1', 'WASF2', 'DPYSL2', 'CMTM3', 'PTBP1', 'PIGU', 'SRSF7', 'MYH10', 'BRCA2', 'NPL', 'PTGFRN', 'INHBA', 'CHIT1', 'VAT1', 'ITGB5', 'FAM83D', 'NFKBIZ', 'TRIM59', 'CD93', 'LILRB2', 'TMEM217', 'NCF1', 'ZCCHC2', 'RCN3', 'RASGRP3', 'TM7SF2', 'UCHL1', 'KIF1B', 'TMEM97', 'SLC37A2', 'ABCA1', 'RPL15', 'YWHAH', 'LVRN', 'SULT1C2', 'CRLF3', 'IFIT1', 'MICAL2', 'MYB', 'TMEM127', 'EHD2', 'USP2', 'FRRS1', 'DNAJB4', 'ASPHD2', 'SLC40A1', 'EMC2', 'SLC7A5P2', 'SPRED1', 'ITPRIPL1', 'RHBDL2', 'SLPI', 'EZH2', 'MGAT1', 'SIGLEC15', 'DHRS9', 'PEPD', 'CDC7', 'RILP', 'CENPF', 'CMTM3', 'NT5DC2', 'DPY19L3', 'PAPLN', 'VSIG4', 'HPSE', 'DIXDC1', 'ITGBL1', 'MT1M', 'SLC1A2', 'RBM14-RBM4', 'RPS17', 'SERPINA1', 'CD40LG', 'KLHL23', 'PRPF19', 'FZD2', 'TAGLN2', 'EMC8', 'PELO', 'PCNA', 'CHD3', 'SAT1', 'HMGB2', 'CDK1', 'ABCG1', 'CAP1', 'ANXA4', 'TREM2', 'HS3ST2', 'KIFC1', 'LPCAT3', 'SMC2', 'NPTN', 'CTSL', 'LST1', 'DPP4', 'RPS5', 'CRYBA1', 'ALOX5', 'RGL1', 'NOLC1', 'PSEN2', 'RARRES1', 'TPX2', 'CLEC4A', 'EDEM2', 'RAB38', 'EPN2', 'EGR1', 'FIBP', 'COBLL1', 'PCBD1', 'CASP5', 'MPRIP', 'CCRL2', 'GNS', 'CCL3L3', 'CD1C', 'PLIN2', 'TCP11L2', 'RPS10', 'NNMT', 'SLC8A1', 'CDK5', 'GAPT', 'GPR84', 'AQP9', 'IL1A', 'SPARC', 'PKIB', 'TMEM144', 'TCTA', 'PLA2G2D', 'KIAA0319L', 'IFIT3', 'BCLAF1', 'PLEKHM1', 'DCANP1', 'F2RL2', 'HLA-E', 'ATP9A', 'COPG2', 'DENND4C', 'FAIM', 'FAM20C', 'STK39', 'PIK3IP1', 'ZFYVE26', 'CAP1', 'KCNQ3', 'MYRF', 'HAPLN4', 'DPYSL3', 'BOLA2', 'AAMDC', 'CCL2', 'KIF15', 'HLA-F', 'KCNMA1', 'CCR6', 'SMS', 'NUSAP1', 'FLNA', 'DCP2', 'SIGLEC10', 'TLR10', 'PLXNC1', 'SYNGR1', 'HMGB2', 'PLEK', 'TSPAN7', 'CDH23', 'IL1RAP', 'TMEM104', 'RABAC1', 'CDC6', 'TEX2', 'CSF2RA', 'LSP1', 'C1QA', 'TRIM72', 'MLPH', 'PRG2', 'NRM', 'PODXL', 'UBE2T', 'IRF2BP2', 'GUSB', 'LRRTM3', 'SPIN4', 'CLU', 'MFGE8', 'TNFRSF14', 'ROR2', 'CCND2', 'NBPF10', 'EMX1', 'ADRA2B', 'TBC1D2', 'KLHL24', 'ABLIM3', 'SERPING1', 'MDH2', 'HMGB3', 'GALNT12', 'GALNS', 'CR1', 'RNF128', 'CRABP2', 'ITGA3', 'SELPLG', 'LILRB1', 'RPL5', 'HK3', 'RAPGEF3', 'TUBA8', 'BCL2L1', 'RSPH3', 'TRPV2', 'RUNX3', 'SLC1A3', 'PSTPIP2', 'TREM2', 'MT1F', 'NUPR1', 'ADAMTS15', 'RNASE2', 'NDST2', 'IPCEF1', 'ILF3', 'IGF1R', 'ALOX5AP', 'KCNJ5', 'RAI14', 'GRN', 'TNFRSF21', 'CCNB1', 'CCR5', 'NCKAP1', 'MITF', 'SMPDL3A', 'TFPI', 'ODF2', 'PNPLA3', 'GPD1', 'LAT2', 'ANGPTL2', 'RTN1', 'APLP2', 'ARHGAP17', 'MT1H', 'DLL4', 'SGMS1', 'SYNRG', 'SCRN1', 'OR13F1', 'IL1A', 'FNIP2', 'CEP55', 'IGF2R', 'CR1', 'GCLC', 'FABP5', 'ASAH1', 'SH3BP1', 'RAD51', 'CTSD', 'C3AR1', 'THBD', 'FMNL1', 'SERPINB9', 'EDNRB', 'NOP58', 'AGAP1', 'TGFBI', 'TWIST2', 'GPR161', 'DPP4', 'RPL13A', 'HNRNPA1', 'SLC27A3', 'POPDC3', 'NCF1C', 'TRPV2', 'CCNE2', 'P2RY6', 'TOB1', 'TRIOBP', 'IFI6', 'RAB42', 'TRIM32', 'PRKCD', 'TACC3', 'RAB6B', 'HK2', 'PDE1B', 'PPM1H', 'IL6', 'SLC17A5']\n"
     ]
    },
    {
     "data": {
      "text/plain": [
       "519"
      ]
     },
     "execution_count": 60,
     "metadata": {},
     "output_type": "execute_result"
    }
   ],
   "execution_count": 60
  },
  {
   "metadata": {
    "ExecuteTime": {
     "end_time": "2025-04-19T00:37:58.164634Z",
     "start_time": "2025-04-19T00:37:57.870729Z"
    }
   },
   "cell_type": "code",
   "source": [
    "ADCell = pd.read_csv(\"/Users/25yoon/PycharmProjects/rstuff/ADCellData.csv\")\n",
    "MSCell = pd.read_csv(\"/Users/25yoon/PycharmProjects/rstuff/MSData.csv\")\n",
    "\n",
    "dfs = [ADCell, MSCell]\n",
    "for df in dfs:\n",
    "    df[\"Gene_Name\"] = df[\"Gene_Name\"].astype(str)\n",
    "    df[\"Gene_Name\"] = df[\"Gene_Name\"].str.replace(\" \",\"\", regex=False)\n",
    "    df[\"validation\"] = df[\"Gene_Name\"].isin(gene_list)\n",
    "'''\n",
    "print(np.sum(ADCell[\"validation\"]))\n",
    "print(np.sum(MSCell[\"validation\"]))\n",
    "'''"
   ],
   "id": "c93239307a15cd50",
   "outputs": [
    {
     "name": "stdout",
     "output_type": "stream",
     "text": [
      "503\n",
      "674\n"
     ]
    }
   ],
   "execution_count": 45
  },
  {
   "metadata": {
    "ExecuteTime": {
     "end_time": "2025-04-19T05:33:38.963581Z",
     "start_time": "2025-04-19T05:33:38.944735Z"
    }
   },
   "cell_type": "code",
   "source": [
    "intersection_temp = set(ADCell[\"Gene_Name\"]) & set(MSCell[\"Gene_Name\"])\n",
    "intersection = set(intersection_temp) & set(gene_list)\n"
   ],
   "id": "12eec146285b401",
   "outputs": [
    {
     "data": {
      "text/plain": [
       "463"
      ]
     },
     "execution_count": 69,
     "metadata": {},
     "output_type": "execute_result"
    }
   ],
   "execution_count": 69
  },
  {
   "metadata": {
    "ExecuteTime": {
     "end_time": "2025-04-19T05:19:45.561606Z",
     "start_time": "2025-04-19T05:19:45.543730Z"
    }
   },
   "cell_type": "code",
   "source": [
    "# getting average for control and diseased for ad cell\n",
    "ad_cols = list(ADCell.columns)\n",
    "#print(ad_cols)\n",
    "cell_cols = (ad_cols.index(\"ADCell_1\"), ad_cols.index(\"ADCell_24\")+1)\n",
    "con_cols = (ad_cols.index(\"Control_1\"), ad_cols.index(\"Control_33\")+1)\n",
    "\n",
    "ADCell[\"cell_avg\"] = ADCell.iloc[:, cell_cols[0]:cell_cols[1]].mean(axis=1)\n",
    "ADCell[\"control_avg\"] = ADCell.iloc[:, con_cols[0]:con_cols[1]].mean(axis=1)\n",
    "\n",
    "\n"
   ],
   "id": "4bf78b2aef08e052",
   "outputs": [
    {
     "name": "stdout",
     "output_type": "stream",
     "text": [
      "['ID_REF', 'Gene_Name', 'ADCell_1', 'ADCell_2', 'ADCell_3', 'ADCell_4', 'ADCell_5', 'ADCell_6', 'ADCell_7', 'ADCell_8', 'ADCell_9', 'ADCell_10', 'ADCell_11', 'ADCell_12', 'ADCell_13', 'ADCell_14', 'ADCell_15', 'ADCell_16', 'ADCell_17', 'ADCell_18', 'ADCell_19', 'ADCell_20', 'ADCell_21', 'ADCell_22', 'ADCell_23', 'ADCell_24', 'Control_1', 'Control_2', 'Control_3', 'Control_4', 'Control_5', 'Control_6', 'Control_7', 'Control_8', 'Control_9', 'Control_10', 'Control_11', 'Control_12', 'Control_13', 'Control_14', 'Control_15', 'Control_16', 'Control_17', 'Control_18', 'Control_19', 'Control_20', 'Control_21', 'Control_22', 'Control_23', 'Control_24', 'Control_25', 'Control_26', 'Control_27', 'Control_28', 'Control_29', 'Control_30', 'Control_31', 'Control_32', 'Control_33', 'validation', 'cell_avg']\n"
     ]
    }
   ],
   "execution_count": 58
  },
  {
   "metadata": {
    "ExecuteTime": {
     "end_time": "2025-04-19T05:23:26.174714Z",
     "start_time": "2025-04-19T05:23:26.136848Z"
    }
   },
   "cell_type": "code",
   "source": [
    "# getting average for control and diseased for ms cell\n",
    "ms_cols = list(MSCell.columns)\n",
    "cell_cols = (ms_cols.index(\"MS_1\"), ms_cols.index(\"MS_30\")+1)\n",
    "con_cols = (ms_cols.index(\"Control_1\"), ms_cols.index(\"Control_10\")+1)\n",
    "\n",
    "MSCell[\"cell_avg\"] = MSCell.iloc[:, cell_cols[0]:cell_cols[1]].mean(axis=1)\n",
    "MSCell[\"control_avg\"] = MSCell.iloc[:, con_cols[0]:con_cols[1]].mean(axis=1)\n"
   ],
   "id": "65a587814a96d20d",
   "outputs": [],
   "execution_count": 59
  },
  {
   "metadata": {
    "ExecuteTime": {
     "end_time": "2025-04-19T06:05:30.477335Z",
     "start_time": "2025-04-19T06:05:30.371412Z"
    }
   },
   "cell_type": "code",
   "source": [
    "import seaborn as sns\n",
    "import matplotlib.pyplot as plt\n",
    "\n",
    "\n",
    "\n",
    "cell_vals_AD = []\n",
    "control_vals_AD = []\n",
    "cell_vals_MS = []\n",
    "control_vals_MS = []\n",
    "\n",
    "\n",
    "\n",
    "filtered_AD = ADCell[ADCell[\"validation\"] == True]\n",
    "filtered_AD = filtered_AD[filtered_AD[\"Gene_Name\"].isin(intersection)]\n",
    "filtered_MS = MSCell[MSCell[\"validation\"] == True]\n",
    "filtered_MS = filtered_MS[filtered_MS[\"Gene_Name\"].isin(intersection)]\n",
    "filtered_AD = filtered_AD.sort_values(\"Gene_Name\")\n",
    "filtered_MS = filtered_MS.sort_values(\"Gene_Name\")\n",
    "\n",
    "for row in filtered_AD.itertuples():\n",
    "    cell_vals_AD.append(row.cell_avg)\n",
    "    control_vals_AD.append(row.control_avg)\n",
    "for row in filtered_MS.itertuples():\n",
    "    cell_vals_MS.append(row.cell_avg)\n",
    "    control_vals_MS.append(row.control_avg)\n",
    "\n",
    "sns.regplot(x = cell_vals_AD, y = cell_vals_MS, scatter_kws={\"color\": \"gray\"},\n",
    "    line_kws={\"color\": \"blue\"})\n",
    "plt.xlabel(\"ADCell Average\")\n",
    "plt.ylabel(\"MSCell Average\")\n",
    "plt.show()\n",
    "\n",
    "sns.regplot(x = control_vals_AD, y = control_vals_MS, scatter_kws={\"color\": \"gray\"},\n",
    "    line_kws={\"color\": \"blue\"})\n",
    "plt.xlabel(\"AD Control Average\")\n",
    "plt.ylabel(\"MS Control Average\")\n",
    "plt.show()\n",
    "\n"
   ],
   "id": "b1e9ce51391f9c94",
   "outputs": [
    {
     "ename": "ValueError",
     "evalue": "all the input array dimensions except for the concatenation axis must match exactly, but along dimension 0, the array at index 0 has size 483 and the array at index 1 has size 674",
     "output_type": "error",
     "traceback": [
      "\u001B[31m---------------------------------------------------------------------------\u001B[39m",
      "\u001B[31mValueError\u001B[39m                                Traceback (most recent call last)",
      "\u001B[36mCell\u001B[39m\u001B[36m \u001B[39m\u001B[32mIn[79]\u001B[39m\u001B[32m, line 24\u001B[39m\n\u001B[32m     21\u001B[39m     cell_vals_MS.append(row.cell_avg)\n\u001B[32m     22\u001B[39m     control_vals_MS.append(row.control_avg)\n\u001B[32m---> \u001B[39m\u001B[32m24\u001B[39m \u001B[43msns\u001B[49m\u001B[43m.\u001B[49m\u001B[43mregplot\u001B[49m\u001B[43m(\u001B[49m\u001B[43mx\u001B[49m\u001B[43m \u001B[49m\u001B[43m=\u001B[49m\u001B[43m \u001B[49m\u001B[43mcell_vals_AD\u001B[49m\u001B[43m,\u001B[49m\u001B[43m \u001B[49m\u001B[43my\u001B[49m\u001B[43m \u001B[49m\u001B[43m=\u001B[49m\u001B[43m \u001B[49m\u001B[43mcell_vals_MS\u001B[49m\u001B[43m,\u001B[49m\u001B[43m \u001B[49m\u001B[43mscatter_kws\u001B[49m\u001B[43m=\u001B[49m\u001B[43m{\u001B[49m\u001B[33;43m\"\u001B[39;49m\u001B[33;43mcolor\u001B[39;49m\u001B[33;43m\"\u001B[39;49m\u001B[43m:\u001B[49m\u001B[43m \u001B[49m\u001B[33;43m\"\u001B[39;49m\u001B[33;43mgray\u001B[39;49m\u001B[33;43m\"\u001B[39;49m\u001B[43m}\u001B[49m\u001B[43m,\u001B[49m\n\u001B[32m     25\u001B[39m \u001B[43m    \u001B[49m\u001B[43mline_kws\u001B[49m\u001B[43m=\u001B[49m\u001B[43m{\u001B[49m\u001B[33;43m\"\u001B[39;49m\u001B[33;43mcolor\u001B[39;49m\u001B[33;43m\"\u001B[39;49m\u001B[43m:\u001B[49m\u001B[43m \u001B[49m\u001B[33;43m\"\u001B[39;49m\u001B[33;43mblue\u001B[39;49m\u001B[33;43m\"\u001B[39;49m\u001B[43m}\u001B[49m\u001B[43m)\u001B[49m\n\u001B[32m     26\u001B[39m plt.xlabel(\u001B[33m\"\u001B[39m\u001B[33mADCell Average\u001B[39m\u001B[33m\"\u001B[39m)\n\u001B[32m     27\u001B[39m plt.ylabel(\u001B[33m\"\u001B[39m\u001B[33mMSCell Average\u001B[39m\u001B[33m\"\u001B[39m)\n",
      "\u001B[36mFile \u001B[39m\u001B[32m~/PycharmProjects/rstuff/.venv/lib/python3.12/site-packages/seaborn/regression.py:763\u001B[39m, in \u001B[36mregplot\u001B[39m\u001B[34m(data, x, y, x_estimator, x_bins, x_ci, scatter, fit_reg, ci, n_boot, units, seed, order, logistic, lowess, robust, logx, x_partial, y_partial, truncate, dropna, x_jitter, y_jitter, label, color, marker, scatter_kws, line_kws, ax)\u001B[39m\n\u001B[32m    752\u001B[39m \u001B[38;5;28;01mdef\u001B[39;00m\u001B[38;5;250m \u001B[39m\u001B[34mregplot\u001B[39m(\n\u001B[32m    753\u001B[39m     data=\u001B[38;5;28;01mNone\u001B[39;00m, *, x=\u001B[38;5;28;01mNone\u001B[39;00m, y=\u001B[38;5;28;01mNone\u001B[39;00m,\n\u001B[32m    754\u001B[39m     x_estimator=\u001B[38;5;28;01mNone\u001B[39;00m, x_bins=\u001B[38;5;28;01mNone\u001B[39;00m, x_ci=\u001B[33m\"\u001B[39m\u001B[33mci\u001B[39m\u001B[33m\"\u001B[39m,\n\u001B[32m   (...)\u001B[39m\u001B[32m    760\u001B[39m     scatter_kws=\u001B[38;5;28;01mNone\u001B[39;00m, line_kws=\u001B[38;5;28;01mNone\u001B[39;00m, ax=\u001B[38;5;28;01mNone\u001B[39;00m\n\u001B[32m    761\u001B[39m ):\n\u001B[32m--> \u001B[39m\u001B[32m763\u001B[39m     plotter = \u001B[43m_RegressionPlotter\u001B[49m\u001B[43m(\u001B[49m\u001B[43mx\u001B[49m\u001B[43m,\u001B[49m\u001B[43m \u001B[49m\u001B[43my\u001B[49m\u001B[43m,\u001B[49m\u001B[43m \u001B[49m\u001B[43mdata\u001B[49m\u001B[43m,\u001B[49m\u001B[43m \u001B[49m\u001B[43mx_estimator\u001B[49m\u001B[43m,\u001B[49m\u001B[43m \u001B[49m\u001B[43mx_bins\u001B[49m\u001B[43m,\u001B[49m\u001B[43m \u001B[49m\u001B[43mx_ci\u001B[49m\u001B[43m,\u001B[49m\n\u001B[32m    764\u001B[39m \u001B[43m                                 \u001B[49m\u001B[43mscatter\u001B[49m\u001B[43m,\u001B[49m\u001B[43m \u001B[49m\u001B[43mfit_reg\u001B[49m\u001B[43m,\u001B[49m\u001B[43m \u001B[49m\u001B[43mci\u001B[49m\u001B[43m,\u001B[49m\u001B[43m \u001B[49m\u001B[43mn_boot\u001B[49m\u001B[43m,\u001B[49m\u001B[43m \u001B[49m\u001B[43munits\u001B[49m\u001B[43m,\u001B[49m\u001B[43m \u001B[49m\u001B[43mseed\u001B[49m\u001B[43m,\u001B[49m\n\u001B[32m    765\u001B[39m \u001B[43m                                 \u001B[49m\u001B[43morder\u001B[49m\u001B[43m,\u001B[49m\u001B[43m \u001B[49m\u001B[43mlogistic\u001B[49m\u001B[43m,\u001B[49m\u001B[43m \u001B[49m\u001B[43mlowess\u001B[49m\u001B[43m,\u001B[49m\u001B[43m \u001B[49m\u001B[43mrobust\u001B[49m\u001B[43m,\u001B[49m\u001B[43m \u001B[49m\u001B[43mlogx\u001B[49m\u001B[43m,\u001B[49m\n\u001B[32m    766\u001B[39m \u001B[43m                                 \u001B[49m\u001B[43mx_partial\u001B[49m\u001B[43m,\u001B[49m\u001B[43m \u001B[49m\u001B[43my_partial\u001B[49m\u001B[43m,\u001B[49m\u001B[43m \u001B[49m\u001B[43mtruncate\u001B[49m\u001B[43m,\u001B[49m\u001B[43m \u001B[49m\u001B[43mdropna\u001B[49m\u001B[43m,\u001B[49m\n\u001B[32m    767\u001B[39m \u001B[43m                                 \u001B[49m\u001B[43mx_jitter\u001B[49m\u001B[43m,\u001B[49m\u001B[43m \u001B[49m\u001B[43my_jitter\u001B[49m\u001B[43m,\u001B[49m\u001B[43m \u001B[49m\u001B[43mcolor\u001B[49m\u001B[43m,\u001B[49m\u001B[43m \u001B[49m\u001B[43mlabel\u001B[49m\u001B[43m)\u001B[49m\n\u001B[32m    769\u001B[39m     \u001B[38;5;28;01mif\u001B[39;00m ax \u001B[38;5;129;01mis\u001B[39;00m \u001B[38;5;28;01mNone\u001B[39;00m:\n\u001B[32m    770\u001B[39m         ax = plt.gca()\n",
      "\u001B[36mFile \u001B[39m\u001B[32m~/PycharmProjects/rstuff/.venv/lib/python3.12/site-packages/seaborn/regression.py:112\u001B[39m, in \u001B[36m_RegressionPlotter.__init__\u001B[39m\u001B[34m(self, x, y, data, x_estimator, x_bins, x_ci, scatter, fit_reg, ci, n_boot, units, seed, order, logistic, lowess, robust, logx, x_partial, y_partial, truncate, dropna, x_jitter, y_jitter, color, label)\u001B[39m\n\u001B[32m    110\u001B[39m \u001B[38;5;66;03m# Drop null observations\u001B[39;00m\n\u001B[32m    111\u001B[39m \u001B[38;5;28;01mif\u001B[39;00m dropna:\n\u001B[32m--> \u001B[39m\u001B[32m112\u001B[39m     \u001B[38;5;28;43mself\u001B[39;49m\u001B[43m.\u001B[49m\u001B[43mdropna\u001B[49m\u001B[43m(\u001B[49m\u001B[33;43m\"\u001B[39;49m\u001B[33;43mx\u001B[39;49m\u001B[33;43m\"\u001B[39;49m\u001B[43m,\u001B[49m\u001B[43m \u001B[49m\u001B[33;43m\"\u001B[39;49m\u001B[33;43my\u001B[39;49m\u001B[33;43m\"\u001B[39;49m\u001B[43m,\u001B[49m\u001B[43m \u001B[49m\u001B[33;43m\"\u001B[39;49m\u001B[33;43munits\u001B[39;49m\u001B[33;43m\"\u001B[39;49m\u001B[43m,\u001B[49m\u001B[43m \u001B[49m\u001B[33;43m\"\u001B[39;49m\u001B[33;43mx_partial\u001B[39;49m\u001B[33;43m\"\u001B[39;49m\u001B[43m,\u001B[49m\u001B[43m \u001B[49m\u001B[33;43m\"\u001B[39;49m\u001B[33;43my_partial\u001B[39;49m\u001B[33;43m\"\u001B[39;49m\u001B[43m)\u001B[49m\n\u001B[32m    114\u001B[39m \u001B[38;5;66;03m# Regress nuisance variables out of the data\u001B[39;00m\n\u001B[32m    115\u001B[39m \u001B[38;5;28;01mif\u001B[39;00m \u001B[38;5;28mself\u001B[39m.x_partial \u001B[38;5;129;01mis\u001B[39;00m \u001B[38;5;129;01mnot\u001B[39;00m \u001B[38;5;28;01mNone\u001B[39;00m:\n",
      "\u001B[36mFile \u001B[39m\u001B[32m~/PycharmProjects/rstuff/.venv/lib/python3.12/site-packages/seaborn/regression.py:60\u001B[39m, in \u001B[36m_LinearPlotter.dropna\u001B[39m\u001B[34m(self, *vars)\u001B[39m\n\u001B[32m     58\u001B[39m vals = [\u001B[38;5;28mgetattr\u001B[39m(\u001B[38;5;28mself\u001B[39m, var) \u001B[38;5;28;01mfor\u001B[39;00m var \u001B[38;5;129;01min\u001B[39;00m \u001B[38;5;28mvars\u001B[39m]\n\u001B[32m     59\u001B[39m vals = [v \u001B[38;5;28;01mfor\u001B[39;00m v \u001B[38;5;129;01min\u001B[39;00m vals \u001B[38;5;28;01mif\u001B[39;00m v \u001B[38;5;129;01mis\u001B[39;00m \u001B[38;5;129;01mnot\u001B[39;00m \u001B[38;5;28;01mNone\u001B[39;00m]\n\u001B[32m---> \u001B[39m\u001B[32m60\u001B[39m not_na = np.all(\u001B[43mnp\u001B[49m\u001B[43m.\u001B[49m\u001B[43mcolumn_stack\u001B[49m\u001B[43m(\u001B[49m\u001B[43m[\u001B[49m\u001B[43mpd\u001B[49m\u001B[43m.\u001B[49m\u001B[43mnotnull\u001B[49m\u001B[43m(\u001B[49m\u001B[43mv\u001B[49m\u001B[43m)\u001B[49m\u001B[43m \u001B[49m\u001B[38;5;28;43;01mfor\u001B[39;49;00m\u001B[43m \u001B[49m\u001B[43mv\u001B[49m\u001B[43m \u001B[49m\u001B[38;5;129;43;01min\u001B[39;49;00m\u001B[43m \u001B[49m\u001B[43mvals\u001B[49m\u001B[43m]\u001B[49m\u001B[43m)\u001B[49m, axis=\u001B[32m1\u001B[39m)\n\u001B[32m     61\u001B[39m \u001B[38;5;28;01mfor\u001B[39;00m var \u001B[38;5;129;01min\u001B[39;00m \u001B[38;5;28mvars\u001B[39m:\n\u001B[32m     62\u001B[39m     val = \u001B[38;5;28mgetattr\u001B[39m(\u001B[38;5;28mself\u001B[39m, var)\n",
      "\u001B[36mFile \u001B[39m\u001B[32m~/PycharmProjects/rstuff/.venv/lib/python3.12/site-packages/numpy/lib/_shape_base_impl.py:662\u001B[39m, in \u001B[36mcolumn_stack\u001B[39m\u001B[34m(tup)\u001B[39m\n\u001B[32m    660\u001B[39m         arr = array(arr, copy=\u001B[38;5;28;01mNone\u001B[39;00m, subok=\u001B[38;5;28;01mTrue\u001B[39;00m, ndmin=\u001B[32m2\u001B[39m).T\n\u001B[32m    661\u001B[39m     arrays.append(arr)\n\u001B[32m--> \u001B[39m\u001B[32m662\u001B[39m \u001B[38;5;28;01mreturn\u001B[39;00m \u001B[43m_nx\u001B[49m\u001B[43m.\u001B[49m\u001B[43mconcatenate\u001B[49m\u001B[43m(\u001B[49m\u001B[43marrays\u001B[49m\u001B[43m,\u001B[49m\u001B[43m \u001B[49m\u001B[32;43m1\u001B[39;49m\u001B[43m)\u001B[49m\n",
      "\u001B[31mValueError\u001B[39m: all the input array dimensions except for the concatenation axis must match exactly, but along dimension 0, the array at index 0 has size 483 and the array at index 1 has size 674"
     ]
    }
   ],
   "execution_count": 79
  },
  {
   "metadata": {
    "ExecuteTime": {
     "end_time": "2025-04-19T06:10:35.643513Z",
     "start_time": "2025-04-19T06:10:35.633406Z"
    }
   },
   "cell_type": "code",
   "source": [
    "\n",
    "\n",
    "\n",
    "from sklearn.linear_model import LinearRegression\n",
    "from sklearn.metrics import mean_squared_error, r2_score\n",
    "linear_model = LinearRegression()\n",
    "\n",
    "x1 = np.array(cell_vals_AD).reshape(-1,1)\n",
    "x2 = np.array(cell_vals_MS).reshape(-1,1)\n",
    "y1 = np.array(control_vals_AD).reshape(-1,1)\n",
    "y2 = np.array(control_vals_MS).reshape(-1,1)\n",
    "linear_model.fit(x1, y1)\n",
    "linear_model.fit(x2, y2)\n",
    "\n",
    "y_pred_AD = linear_model.predict(x1)\n",
    "y_pred_MS = linear_model.predict(x2)\n",
    "\n",
    "\n",
    "AD_r2 = r2_score(x1, y_pred_AD)\n",
    "MS_r2 = r2_score(x2, y_pred_MS)\n",
    "\n"
   ],
   "id": "6c7eb07a18a7f8ce",
   "outputs": [],
   "execution_count": 85
  },
  {
   "metadata": {},
   "cell_type": "code",
   "outputs": [],
   "execution_count": null,
   "source": "",
   "id": "d446a730d6bccc29"
  }
 ],
 "metadata": {
  "kernelspec": {
   "display_name": "Python 3",
   "language": "python",
   "name": "python3"
  },
  "language_info": {
   "codemirror_mode": {
    "name": "ipython",
    "version": 2
   },
   "file_extension": ".py",
   "mimetype": "text/x-python",
   "name": "python",
   "nbconvert_exporter": "python",
   "pygments_lexer": "ipython2",
   "version": "2.7.6"
  }
 },
 "nbformat": 4,
 "nbformat_minor": 5
}
